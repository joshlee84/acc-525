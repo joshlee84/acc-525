{
 "cells": [
  {
   "cell_type": "markdown",
   "metadata": {},
   "source": [
    "# Pandas (Part 2) - Cleaning Data - Exercise Solutions"
   ]
  },
  {
   "cell_type": "code",
   "execution_count": null,
   "metadata": {},
   "outputs": [],
   "source": [
    "import pandas as pd\n",
    "\n",
    "pd.options.display.float_format = '{:,.2f}'.format # Display option to include 2 decimal places on all floats\n",
    "pd.set_option('display.max_columns', None) # Display option to show all columns\n",
    "pd.set_option('display.max_rows', None) # Display option to show all rows"
   ]
  },
  {
   "cell_type": "markdown",
   "metadata": {},
   "source": [
    "#### Exercise 1\n",
    "\n",
    "First, run the cell below to import the **violations.csv** file into the `viol` DataFrame. This is the data set we were working with during our last class period in the exercises."
   ]
  },
  {
   "cell_type": "code",
   "execution_count": null,
   "metadata": {},
   "outputs": [],
   "source": [
    "viol = pd.read_csv('violations.csv',parse_dates=['date'],dtype={'zip':str,'penalty':str,'year':str})\n",
    "viol.head()"
   ]
  },
  {
   "cell_type": "markdown",
   "metadata": {},
   "source": [
    "1. Drop the `company` column from `viol`. Print the first five rows of `viol` to ensure it was properly dropped."
   ]
  },
  {
   "cell_type": "code",
   "execution_count": null,
   "metadata": {},
   "outputs": [],
   "source": [
    "# 1\n",
    "viol = viol.drop(columns=['company'])\n",
    "viol.head()"
   ]
  },
  {
   "cell_type": "markdown",
   "metadata": {},
   "source": [
    "2. Create a new DataFrame called `new_viol` that includes only the `ticker`, `date`, and `penalty` columns from `viol`. Print the first five rows of `new_viol`."
   ]
  },
  {
   "cell_type": "code",
   "execution_count": null,
   "metadata": {},
   "outputs": [],
   "source": [
    "# 2\n",
    "new_viol = viol[['ticker','date','penalty']]\n",
    "new_viol.head()"
   ]
  },
  {
   "cell_type": "markdown",
   "metadata": {},
   "source": [
    "#### Exercise 2\n",
    "\n",
    "Run the cell below to re-import the **violations.csv** file into the `viol` DataFrame."
   ]
  },
  {
   "cell_type": "code",
   "execution_count": null,
   "metadata": {},
   "outputs": [],
   "source": [
    "viol = pd.read_csv('violations.csv',parse_dates=['date'],dtype={'zip':str,'penalty':str,'year':str})"
   ]
  },
  {
   "cell_type": "markdown",
   "metadata": {},
   "source": [
    "1. Create a new DataFrame containing all duplicate rows in the `viol` DataFrame. How many rows are duplicates in our data?"
   ]
  },
  {
   "cell_type": "code",
   "execution_count": null,
   "metadata": {},
   "outputs": [],
   "source": [
    "# 1\n",
    "dup_rows = viol[viol.duplicated(keep=False)]\n",
    "print(dup_rows.info())\n",
    "dup_rows.head()\n",
    "\n",
    "# 9,596 rows are duplicates in our data"
   ]
  },
  {
   "cell_type": "markdown",
   "metadata": {},
   "source": [
    "2. Drop duplicate rows (keeping the first duplicate row for each duplicate) from the `viol` DataFrame where a duplicate row is based only on the `ticker` and `date` columns."
   ]
  },
  {
   "cell_type": "code",
   "execution_count": null,
   "metadata": {},
   "outputs": [],
   "source": [
    "# 2\n",
    "viol = viol.drop_duplicates(['ticker','date'])\n",
    "viol.info()"
   ]
  },
  {
   "cell_type": "markdown",
   "metadata": {},
   "source": [
    "#### Exercise 3\n",
    "\n",
    "Run the cell below to re-import the **violations.csv** file into the `viol` DataFrame."
   ]
  },
  {
   "cell_type": "code",
   "execution_count": null,
   "metadata": {},
   "outputs": [],
   "source": [
    "viol = pd.read_csv('violations.csv',parse_dates=['date'],dtype={'zip':str,'penalty':str,'year':str})"
   ]
  },
  {
   "cell_type": "markdown",
   "metadata": {},
   "source": [
    "1. Fill in the `zip` column in the `viol` DataFrame with a blank string (i.e., `''`) if the value is missing."
   ]
  },
  {
   "cell_type": "code",
   "execution_count": null,
   "metadata": {},
   "outputs": [],
   "source": [
    "# 1\n",
    "viol['zip'] = viol['zip'].fillna('')\n",
    "viol.head()"
   ]
  },
  {
   "cell_type": "markdown",
   "metadata": {},
   "source": [
    "2. Drop all observations in the `viol` DataFrame in which the `ticker` is missing."
   ]
  },
  {
   "cell_type": "code",
   "execution_count": null,
   "metadata": {},
   "outputs": [],
   "source": [
    "# 2\n",
    "viol = viol.dropna(subset=['ticker'])\n",
    "viol.info()"
   ]
  },
  {
   "cell_type": "markdown",
   "metadata": {},
   "source": [
    "#### Exercise 4\n",
    "\n",
    "Run the cell below to re-import the **violations.csv** file into the `viol` DataFrame."
   ]
  },
  {
   "cell_type": "code",
   "execution_count": null,
   "metadata": {},
   "outputs": [],
   "source": [
    "viol = pd.read_csv('violations.csv',parse_dates=['date'],dtype={'zip':str,'penalty':str,'year':str})"
   ]
  },
  {
   "cell_type": "markdown",
   "metadata": {},
   "source": [
    "1. Convert the `year` column in the `viol` DataFrame to an integer using the `astype()` function."
   ]
  },
  {
   "cell_type": "code",
   "execution_count": null,
   "metadata": {},
   "outputs": [],
   "source": [
    "# 1\n",
    "viol['year'] = viol['year'].astype(int)"
   ]
  },
  {
   "cell_type": "markdown",
   "metadata": {},
   "source": [
    "2. Try to convert the `penalty` column in the `viol` DataFrame to a float using the `astype()` function. What is the error you receive?"
   ]
  },
  {
   "cell_type": "code",
   "execution_count": null,
   "metadata": {},
   "outputs": [],
   "source": [
    "# 2\n",
    "try:\n",
    "    viol['penalty'] = viol['penalty'].astype(float)\n",
    "except Exception as e:\n",
    "    print(e)\n",
    "\n",
    "# The error says \"could not convert string to float: '$45,000 '\""
   ]
  },
  {
   "cell_type": "markdown",
   "metadata": {},
   "source": [
    "3. Create and apply a function to the `penalty` column to convert the `penalty` column to a float."
   ]
  },
  {
   "cell_type": "code",
   "execution_count": null,
   "metadata": {},
   "outputs": [],
   "source": [
    "# 3\n",
    "def convert_penalty(val):\n",
    "    val = val.replace('$','').replace(',','').strip()\n",
    "    val = float(val)\n",
    "    return val\n",
    "\n",
    "viol['penalty'] = viol['penalty'].apply(convert_penalty)\n",
    "print(viol.info())\n",
    "viol.head()"
   ]
  },
  {
   "cell_type": "markdown",
   "metadata": {},
   "source": [
    "#### Exercise 5\n",
    "\n",
    "You are provided a simple DataFrame called `df` that includes names, genders, heights, and marital statuses for four people."
   ]
  },
  {
   "cell_type": "code",
   "execution_count": null,
   "metadata": {},
   "outputs": [],
   "source": [
    "df = pd.DataFrame({'person':['Robby','Karen','Lydia','Greg'], 'gender':['M', 'F', 'F', 'M'], 'height':[5.6, 5.5, 5.3, 6.2], 'marital_status':['married','married','married','single']}) \n",
    "df.head()"
   ]
  },
  {
   "cell_type": "markdown",
   "metadata": {},
   "source": [
    "1. Create a new column called `sentence` with the sentence \"Robby is married.\" for each row, filling in the appropriate name and marital status."
   ]
  },
  {
   "cell_type": "code",
   "execution_count": null,
   "metadata": {},
   "outputs": [],
   "source": [
    "# 1\n",
    "\n",
    "df['sentence'] = df['person']+' is '+df['marital_status']+'.'\n",
    "df.head()"
   ]
  },
  {
   "cell_type": "markdown",
   "metadata": {},
   "source": [
    "2. Create a new column that includes only the first letter of the `marital_status` column. Extra bonus points if you can get that letter to be upper case."
   ]
  },
  {
   "cell_type": "code",
   "execution_count": null,
   "metadata": {},
   "outputs": [],
   "source": [
    "# 2\n",
    "\n",
    "df['marital_status1'] = df.marital_status.str[0]\n",
    "\n",
    "# Bonus points!\n",
    "df['marital_status1'] = df.marital_status.str[0].str.upper()\n",
    "\n",
    "df.head()"
   ]
  },
  {
   "cell_type": "markdown",
   "metadata": {},
   "source": [
    "3. Create a new column that multiplies `height` by 100."
   ]
  },
  {
   "cell_type": "code",
   "execution_count": null,
   "metadata": {},
   "outputs": [],
   "source": [
    "# 3\n",
    "df['height100'] = df['height']*100\n",
    "df.head()"
   ]
  }
 ],
 "metadata": {
  "kernelspec": {
   "display_name": "Python 3 (ipykernel)",
   "language": "python",
   "name": "python3"
  },
  "language_info": {
   "codemirror_mode": {
    "name": "ipython",
    "version": 3
   },
   "file_extension": ".py",
   "mimetype": "text/x-python",
   "name": "python",
   "nbconvert_exporter": "python",
   "pygments_lexer": "ipython3",
   "version": "3.10.1"
  }
 },
 "nbformat": 4,
 "nbformat_minor": 1
}
